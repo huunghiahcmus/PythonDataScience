{
 "cells": [
  {
   "cell_type": "markdown",
   "metadata": {},
   "source": [
    "### Lệnh print\n",
    "1. In ra màn hình 'Hello word'\n",
    "\n",
    "\n"
   ]
  },
  {
   "cell_type": "code",
   "execution_count": 36,
   "metadata": {},
   "outputs": [
    {
     "name": "stdout",
     "output_type": "stream",
     "text": [
      "Hello word - single quote\n",
      "Hello word - double quote\n"
     ]
    }
   ],
   "source": [
    "#in chuỗi ký tự với nháy đơn\n",
    "print('Hello word - single quote')\n",
    "#in chuỗi ký tự với nháy kép\n",
    "print(\"Hello word - double quote\")\n",
    "\n"
   ]
  },
  {
   "cell_type": "markdown",
   "metadata": {},
   "source": [
    "1. Dòng ghi chú (comment) bắt đầu với #\n",
    "2. Chuỗi ký tự được giới hạn bởi cặp nháy đơn '' hoặc nháy kép \"\" đều được\n",
    "\n"
   ]
  },
  {
   "cell_type": "markdown",
   "metadata": {},
   "source": [
    "### Phép toán số học đơn giản với số nguyên\n",
    "a = 19\n",
    "\n",
    "b = 2\n",
    "1. Tổng, hiệu, tích, thương, \n",
    "2. Chia nguyên, chia dư, lũy thừa \n",
    "\n",
    "\n"
   ]
  },
  {
   "cell_type": "code",
   "execution_count": 41,
   "metadata": {},
   "outputs": [
    {
     "name": "stdout",
     "output_type": "stream",
     "text": [
      "21 17 38 9.5\n",
      "9 1 361\n"
     ]
    }
   ],
   "source": [
    "a, b = 19, 2\n",
    "print(a+b, a-b, a*b, a/b)\n",
    "print(a//b, a%b, a**b)"
   ]
  },
  {
   "cell_type": "markdown",
   "metadata": {},
   "source": [
    "1. Phép chia nguyên: //, chia dư: %, lũy thừa: **\n",
    "2. Các phép toán số học có thể kết hợp với phép gán: a += b\n",
    "\n",
    "\n",
    "\n",
    "\n",
    "\n"
   ]
  },
  {
   "cell_type": "markdown",
   "metadata": {},
   "source": [
    "### Lệnh điều kiện:\n",
    "1. n là chẵn hay lẻ\n",
    "2. Nếu n là số chẵn hãy in n/2; ngược lại, nếu n < 10 hãy in 2*n; ngược lại in n-1\n",
    "\n"
   ]
  },
  {
   "cell_type": "code",
   "execution_count": 38,
   "metadata": {},
   "outputs": [
    {
     "name": "stdout",
     "output_type": "stream",
     "text": [
      "8\n"
     ]
    }
   ],
   "source": [
    "n = 16\n",
    "if n % 2 == 0:\n",
    "    print(n//2)\n",
    "elif n<10:\n",
    "    print(2*n)\n",
    "else:\n",
    "    print(n-1)\n",
    "    \n",
    "    \n",
    "    "
   ]
  },
  {
   "cell_type": "markdown",
   "metadata": {},
   "source": [
    "1. lệnh rẽ nhánh: if - else hoặc if - elif - else\n",
    "2. lưu ý dấu ':'\n",
    "\n",
    "\n",
    "\n"
   ]
  },
  {
   "cell_type": "markdown",
   "metadata": {},
   "source": [
    "### Lệnh lặp\n",
    "1. Tính tổng các số lẻ từ 1 đến 20\n",
    "2. Tìm số nguyên dương nhỏ nhất n sao cho tổng các số nguyên từ 1 đến n không bé hơn 100\n",
    "\n",
    "\n"
   ]
  },
  {
   "cell_type": "code",
   "execution_count": 43,
   "metadata": {},
   "outputs": [
    {
     "name": "stdout",
     "output_type": "stream",
     "text": [
      "100\n",
      "15\n"
     ]
    }
   ],
   "source": [
    "s = 0\n",
    "for i in range(1, 21, 2):\n",
    "    s += i\n",
    "print(s)\n",
    "\n",
    "s = n = 1\n",
    "while s < 100:\n",
    "    s += n\n",
    "    n += 1\n",
    "print(n)    \n",
    "\n"
   ]
  },
  {
   "cell_type": "markdown",
   "metadata": {},
   "source": [
    "1. range(start, stop, step)\n",
    "2. các lệnh lặp for, while\n",
    "\n"
   ]
  },
  {
   "cell_type": "markdown",
   "metadata": {},
   "source": [
    "### Kiểu list\n",
    "1. L gồm 10 số nguyên: \n",
    "    L = [3, 6, 2, 5, 7, 9, 1, 0, 8, 4]\n",
    "2. Tính tổng, min, max, average của L\n",
    "3. In phần tử cuối cùng của L\n",
    "4. Trích in danh sách gồm các phần tử từ vị trí 2 đến vị trí 8 của L\n",
    "5. In các phần tử ở vị trí chẵn của L\n",
    "6. Sắp xếp L tăng dần \n",
    "7. In L theo thứ tự ngược\n",
    "\n",
    "\n"
   ]
  },
  {
   "cell_type": "code",
   "execution_count": 45,
   "metadata": {},
   "outputs": [
    {
     "name": "stdout",
     "output_type": "stream",
     "text": [
      "Sum, min, max: 45 0 9\n",
      "Average: 4.5\n",
      "The last: 4\n",
      "[2, 5, 7, 9, 1, 0, 8]\n",
      "[3, 2, 7, 1, 8]\n",
      "[0, 1, 2, 3, 4, 5, 6, 7, 8, 9]\n",
      "[9, 8, 7, 6, 5, 4, 3, 2, 1, 0]\n"
     ]
    }
   ],
   "source": [
    "L = [3, 6, 2, 5, 7, 9, 1, 0, 8, 4]\n",
    "s = sum(L)\n",
    "m1 = min(L)\n",
    "m2 = max(L)\n",
    "print('Sum, min, max:', s, m1, m2)\n",
    "print('Average:', s/len(L))\n",
    "print('The last:', L[-1])\n",
    "print(L[2:9])\n",
    "print(L[::2])\n",
    "L.sort()\n",
    "print(L)\n",
    "print(L[::-1])\n",
    "\n",
    "\n",
    "\n"
   ]
  },
  {
   "cell_type": "markdown",
   "metadata": {},
   "source": [
    "1. Các các phần tử của list được đánh số từ trái qua: 0, 1, 2, ...\n",
    "    từ phải về: -1, -2, ...\n",
    "2. Các hàm hỗ trợ: min, max, sum, len...\n",
    "3. Truy xuất một phần của list L: L[start:stop:step]\n",
    "4. List hỗ trợ nhiều phương thức: sort, ...\n",
    "\n",
    "\n",
    "\n"
   ]
  },
  {
   "cell_type": "markdown",
   "metadata": {},
   "source": [
    "## Bài tập\n",
    "1. Tìm điểm cực trị của hàm bậc 2: f(x) = ax^2 + bx + c với a, b, c là các hệ số thực\n",
    "2. In dãy fibonacci gồm 20 số\n",
    "3. Kiểm tra số nguyên n có phải là số nguyên tố hay không?\n",
    "    \n",
    "(Tự tạo ngẫu nhiên dãy L gồm 10 số nguyên)\n",
    "4. Xác định vị trí cả các phần tử lớn nhất, nhỏ nhất trong dãy L\n",
    "5. In 5 phần tử lớn nhất của dãy L\n",
    "6. Tìm median của L\n"
   ]
  }
 ],
 "metadata": {
  "celltoolbar": "Raw Cell Format",
  "kernelspec": {
   "display_name": "Python 3",
   "language": "python",
   "name": "python3"
  },
  "language_info": {
   "codemirror_mode": {
    "name": "ipython",
    "version": 3
   },
   "file_extension": ".py",
   "mimetype": "text/x-python",
   "name": "python",
   "nbconvert_exporter": "python",
   "pygments_lexer": "ipython3",
   "version": "3.6.6"
  }
 },
 "nbformat": 4,
 "nbformat_minor": 2
}
